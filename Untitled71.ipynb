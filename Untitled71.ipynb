{
  "nbformat": 4,
  "nbformat_minor": 0,
  "metadata": {
    "colab": {
      "provenance": [],
      "authorship_tag": "ABX9TyPuktIbRSMTdkSrVlrY1W/2",
      "include_colab_link": true
    },
    "kernelspec": {
      "name": "python3",
      "display_name": "Python 3"
    },
    "language_info": {
      "name": "python"
    }
  },
  "cells": [
    {
      "cell_type": "markdown",
      "metadata": {
        "id": "view-in-github",
        "colab_type": "text"
      },
      "source": [
        "<a href=\"https://colab.research.google.com/github/AlinaSabitova/Data_analytics_tools-/blob/main/Untitled71.ipynb\" target=\"_parent\"><img src=\"https://colab.research.google.com/assets/colab-badge.svg\" alt=\"Open In Colab\"/></a>"
      ]
    },
    {
      "cell_type": "code",
      "source": [
        "import numpy as np\n",
        "from scipy.stats import poisson\n",
        "lambda1 = 5\n",
        "k = 3\n",
        "p = poisson.pmf(k, lambda1)\n",
        "print(f\"Вероятность {k} событий равна {p:.4f}\")"
      ],
      "metadata": {
        "colab": {
          "base_uri": "https://localhost:8080/"
        },
        "id": "wjdtGZVQd8IL",
        "outputId": "c1541294-07ef-4dc0-f8dd-fabed08e2eb0"
      },
      "execution_count": 10,
      "outputs": [
        {
          "output_type": "stream",
          "name": "stdout",
          "text": [
            "Вероятность 3 событий равна 0.1404\n"
          ]
        }
      ]
    },
    {
      "cell_type": "markdown",
      "source": [],
      "metadata": {
        "id": "vZWirIDgffeP"
      }
    },
    {
      "cell_type": "code",
      "source": [
        "import numpy as np\n",
        "from scipy.stats import poisson\n",
        "lambda1 = 5\n",
        "k = 3\n",
        "p = poisson.cdf(k, lambda1)\n",
        "print(f\"Вероятность {k} событий равна {p:.4f}\")"
      ],
      "metadata": {
        "colab": {
          "base_uri": "https://localhost:8080/"
        },
        "id": "Rhurmdo9d8dU",
        "outputId": "d94d72de-f0ec-44bb-d82c-c251cd3fd93d"
      },
      "execution_count": 11,
      "outputs": [
        {
          "output_type": "stream",
          "name": "stdout",
          "text": [
            "Вероятность 3 событий равна 0.2650\n"
          ]
        }
      ]
    },
    {
      "cell_type": "code",
      "source": [
        "import numpy as np\n",
        "from scipy.stats import poisson\n",
        "lambda1 = 5\n",
        "k = 7\n",
        "p = 1 - poisson.cdf(k, lambda1)\n",
        "print(f\"Вероятность {k} событий равна {p:.4f}\")"
      ],
      "metadata": {
        "colab": {
          "base_uri": "https://localhost:8080/"
        },
        "id": "LViMY4IQfnCe",
        "outputId": "7632c188-1e47-49c8-df5b-8ca6e98e8f37"
      },
      "execution_count": 12,
      "outputs": [
        {
          "output_type": "stream",
          "name": "stdout",
          "text": [
            "Вероятность 7 событий равна 0.1334\n"
          ]
        }
      ]
    },
    {
      "cell_type": "code",
      "source": [
        "a = np.random.poisson(2, size=100)\n",
        "a"
      ],
      "metadata": {
        "colab": {
          "base_uri": "https://localhost:8080/"
        },
        "id": "Sm1OL_Yad8wq",
        "outputId": "42a5345c-9870-4233-8b81-7fdad698725d"
      },
      "execution_count": 15,
      "outputs": [
        {
          "output_type": "execute_result",
          "data": {
            "text/plain": [
              "array([3, 2, 2, 0, 2, 0, 0, 1, 3, 4, 1, 0, 3, 2, 1, 4, 2, 0, 1, 1, 1, 0,\n",
              "       1, 3, 2, 1, 0, 3, 3, 3, 0, 2, 3, 6, 2, 3, 1, 1, 3, 4, 2, 3, 0, 2,\n",
              "       3, 4, 1, 0, 0, 3, 3, 3, 3, 4, 2, 2, 2, 2, 1, 2, 1, 4, 2, 3, 3, 3,\n",
              "       1, 4, 5, 2, 0, 0, 4, 2, 1, 4, 2, 2, 1, 2, 4, 1, 1, 3, 0, 3, 0, 2,\n",
              "       2, 3, 1, 1, 6, 5, 3, 1, 2, 1, 1, 2])"
            ]
          },
          "metadata": {},
          "execution_count": 15
        }
      ]
    },
    {
      "cell_type": "code",
      "source": [
        "import numpy as np\n",
        "from scipy.stats import norm\n",
        "m = 1.5\n",
        "sigma = 0.4\n",
        "a, b = 1.4, 1.6\n",
        "p = norm.cdf(b, m, sigma) - norm.cdf(a, m, sigma)\n",
        "print(f\"Вероятность, что значение будет между {a} и {b} равна {p:.4f}\")"
      ],
      "metadata": {
        "colab": {
          "base_uri": "https://localhost:8080/"
        },
        "id": "jhZ2vPCqf7H8",
        "outputId": "5556adae-1cf5-4d1e-d636-b8c3533b6f90"
      },
      "execution_count": 16,
      "outputs": [
        {
          "output_type": "stream",
          "name": "stdout",
          "text": [
            "Вероятность, что значение будет между 1.4 и 1.6 равна 0.1974\n"
          ]
        }
      ]
    },
    {
      "cell_type": "code",
      "source": [
        "a = np.random.normal(1.5, 0.4, size = 100)\n",
        "a"
      ],
      "metadata": {
        "colab": {
          "base_uri": "https://localhost:8080/"
        },
        "id": "BIZVn7jBhBlr",
        "outputId": "5d0ef275-a44b-40d3-bf62-0b36cf1b2513"
      },
      "execution_count": 19,
      "outputs": [
        {
          "output_type": "execute_result",
          "data": {
            "text/plain": [
              "array([1.92884676, 1.21598502, 1.91072684, 1.56775777, 1.72566587,\n",
              "       1.79543516, 1.47677305, 0.93559379, 1.8661661 , 1.97262012,\n",
              "       1.71574212, 0.97150288, 1.48406411, 1.45649177, 1.06625378,\n",
              "       1.77806502, 2.0596383 , 0.39487691, 1.78574999, 1.70531096,\n",
              "       1.98398968, 1.63439392, 1.71031475, 0.99438604, 1.55581788,\n",
              "       1.63500863, 1.47196736, 1.72120895, 0.62004643, 1.08075288,\n",
              "       1.30384819, 1.38729302, 1.15733935, 1.11062814, 1.36437381,\n",
              "       1.74027173, 1.64771245, 1.4347512 , 1.16360051, 1.64026452,\n",
              "       2.04631329, 1.52323634, 1.64694652, 1.71061982, 1.89566558,\n",
              "       2.0680525 , 1.1592181 , 1.77573696, 1.94680592, 1.61702107,\n",
              "       1.63439985, 1.43369284, 1.14328532, 1.52199973, 1.73082275,\n",
              "       1.40098095, 1.02184836, 1.07810496, 1.46532347, 1.69433701,\n",
              "       0.97675593, 1.18137649, 1.44500919, 1.5878132 , 1.88671097,\n",
              "       1.21030319, 1.81986054, 1.79842577, 1.25281898, 0.84293316,\n",
              "       0.84752614, 1.71820212, 1.48254145, 1.6984945 , 1.09078596,\n",
              "       0.84522798, 1.84434052, 1.83825912, 2.03966262, 1.20632145,\n",
              "       0.9386594 , 1.65724329, 1.47360336, 1.85108788, 1.86554124,\n",
              "       1.4859324 , 1.51665903, 1.54823083, 1.13987706, 1.28997025,\n",
              "       1.5127466 , 1.32016636, 1.27315759, 1.63455374, 2.05855797,\n",
              "       1.90941162, 1.44749572, 1.61294628, 1.49073675, 1.30317096])"
            ]
          },
          "metadata": {},
          "execution_count": 19
        }
      ]
    },
    {
      "cell_type": "code",
      "source": [
        "import numpy as np\n",
        "from scipy.stats import binom\n",
        "n = 10\n",
        "k = 6\n",
        "p = 0.6\n",
        "p = binom.pmf(k, n, p)\n",
        "print(f\"Вероятность {k} успехов: {p:.4f}\")"
      ],
      "metadata": {
        "colab": {
          "base_uri": "https://localhost:8080/"
        },
        "id": "6jhXFPQHhXtb",
        "outputId": "251bc837-0908-4d8c-d6fd-5412dec1e83e"
      },
      "execution_count": 21,
      "outputs": [
        {
          "output_type": "stream",
          "name": "stdout",
          "text": [
            "Вероятность 6 успехов: 0.2508\n"
          ]
        }
      ]
    },
    {
      "cell_type": "code",
      "source": [
        "a = np.random.binomial(10, 0.6, size=100)\n",
        "a"
      ],
      "metadata": {
        "colab": {
          "base_uri": "https://localhost:8080/"
        },
        "id": "c1t3k5MAiIax",
        "outputId": "1c7d1308-104a-4980-c1f9-d97ae6fa760c"
      },
      "execution_count": 24,
      "outputs": [
        {
          "output_type": "execute_result",
          "data": {
            "text/plain": [
              "array([2, 6, 7, 8, 1, 9, 8, 3, 9, 6, 6, 4, 5, 7, 7, 6, 5, 8, 3, 5, 9, 6,\n",
              "       7, 8, 9, 6, 8, 7, 6, 5, 8, 3, 5, 7, 4, 6, 6, 5, 8, 7, 8, 6, 6, 5,\n",
              "       5, 8, 5, 6, 8, 2, 3, 7, 6, 8, 8, 8, 5, 7, 5, 6, 7, 4, 3, 8, 6, 7,\n",
              "       6, 5, 7, 9, 5, 6, 4, 8, 7, 8, 5, 8, 6, 6, 8, 5, 6, 8, 9, 5, 3, 4,\n",
              "       6, 6, 6, 3, 6, 6, 6, 5, 5, 6, 4, 7])"
            ]
          },
          "metadata": {},
          "execution_count": 24
        }
      ]
    }
  ]
}