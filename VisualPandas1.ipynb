{
  "nbformat": 4,
  "nbformat_minor": 0,
  "metadata": {
    "colab": {
      "provenance": [],
      "authorship_tag": "ABX9TyM72G/S2Miw5PZ8ZJY3AUT+",
      "include_colab_link": true
    },
    "kernelspec": {
      "name": "python3",
      "display_name": "Python 3"
    },
    "language_info": {
      "name": "python"
    }
  },
  "cells": [
    {
      "cell_type": "markdown",
      "metadata": {
        "id": "view-in-github",
        "colab_type": "text"
      },
      "source": [
        "<a href=\"https://colab.research.google.com/github/AlinaSabitova/Data_analytics_tools-/blob/main/VisualPandas1.ipynb\" target=\"_parent\"><img src=\"https://colab.research.google.com/assets/colab-badge.svg\" alt=\"Open In Colab\"/></a>"
      ]
    },
    {
      "cell_type": "markdown",
      "source": [
        "Домашная работа 3. Визуальный анализ.\n",
        "Скачайте этот ноутбук к себе.\n",
        "Заполните пропущенные ячейки, отвечая на заданные вопросы. Там должен быть код! (если не сказано обратное)\n",
        "Сохраните результат в своём гитхаб репозитории."
      ],
      "metadata": {
        "id": "oVoo1N2oku0F"
      }
    },
    {
      "cell_type": "code",
      "execution_count": 1,
      "metadata": {
        "id": "jQjWeo5Bkp_U"
      },
      "outputs": [],
      "source": [
        "import numpy as np\n",
        "import pandas as pd\n",
        "from matplotlib import pyplot as plt\n",
        "import seaborn as sns\n",
        "%matplotlib inline"
      ]
    },
    {
      "cell_type": "markdown",
      "source": [
        "#Визуальный анализ данных\n",
        "В этом задании вам предлагается провести визуальный анализ датасета о прокатах велосипедов https://www.kaggle.com/c/bike-sharing-demand/data. Оригинальная задача предполагает построение модели предсказания количества прокатов в городе в зависимости от погоды.\n",
        "\n",
        "Для каждого дня проката известны следующие признаки (как они были указаны в источнике данных):\n",
        "\n",
        "season: 1 - весна, 2 - лето, 3 - осень, 4 - зима\n",
        "\n",
        "yr: 0 - 2011, 1 - 2012\n",
        "\n",
        "mnth: от 1 до 12\n",
        "\n",
        "holiday: 0 - нет праздника, 1 - есть праздник\n",
        "\n",
        "weekday: от 0 до 6\n",
        "\n",
        "workingday: 0 - нерабочий день, 1 - рабочий день\n",
        "\n",
        "weathersit: оценка благоприятности погоды от 1 (чистый, ясный день) до 4 (ливень, туман)\n",
        "\n",
        "temp: температура в Цельсиях\n",
        "\n",
        "atemp: температура по ощущениям в Цельсиях\n",
        "\n",
        "hum: влажность\n",
        "\n",
        "windspeed(mph): скорость ветра в милях в час\n",
        "\n",
        "windspeed(ms): скорость ветра в метрах в секунду\n",
        "\n",
        "cnt: количество арендованных велосипедов (это целевой признак, его мы будем предсказывать)\n",
        "\n",
        "Загрузите с помощью pandas файл bikes_rent.csv.gz и выведите первые 5 строк. Ознакомьтесь с данными с помощью функций describe и info."
      ],
      "metadata": {
        "id": "yVpqpHPek4xd"
      }
    },
    {
      "cell_type": "code",
      "source": [
        "df = pd.read_csv('/content/bikes_rent.csv')\n",
        "\n",
        "df.head()"
      ],
      "metadata": {
        "id": "8YO__Dosk5tr"
      },
      "execution_count": null,
      "outputs": []
    },
    {
      "cell_type": "code",
      "source": [
        "df.info()"
      ],
      "metadata": {
        "id": "ggi5iPGnrMg9"
      },
      "execution_count": null,
      "outputs": []
    },
    {
      "cell_type": "markdown",
      "source": [
        "Давайте посмотрим на графиках, как целевой признак зависит количество прокатов (cnt) зависит от остальных признаков df.columns[:-1]."
      ],
      "metadata": {
        "id": "piRAGi4_rNyJ"
      }
    },
    {
      "cell_type": "code",
      "source": [
        "fig, axes = plt.subplots(nrows=3, ncols=4, figsize=(16, 12))\n",
        "for idx, feature in enumerate(df.columns[:-1]):\n",
        "     df.plot(feature, \"cnt\", subplots=True, kind=\"scatter\", ax=axes[idx // 4, idx % 4])"
      ],
      "metadata": {
        "id": "uCOOv9uzrNae"
      },
      "execution_count": null,
      "outputs": []
    },
    {
      "cell_type": "markdown",
      "source": [
        "#1. Ответьте на вопросы:"
      ],
      "metadata": {
        "id": "l4_FkXIcrn5z"
      }
    },
    {
      "cell_type": "markdown",
      "source": [
        "Каков характер зависимости числа прокатов от месяца?\n",
        "ответ:"
      ],
      "metadata": {
        "id": "iKt74nTKrjCN"
      }
    },
    {
      "cell_type": "markdown",
      "source": [
        "Укажите один или два признака, от которых число прокатов скорее всего зависит линейно\n",
        "(чем больше значение, тем больше прокатов или наоборот, например)\n",
        "\n",
        "Можете проверить результат с помощью lnplot.\n",
        "\n",
        "ответ:"
      ],
      "metadata": {
        "id": "YeZ-z1czrqnC"
      }
    }
  ]
}