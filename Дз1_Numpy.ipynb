{
  "nbformat": 4,
  "nbformat_minor": 0,
  "metadata": {
    "colab": {
      "provenance": [],
      "authorship_tag": "ABX9TyMzC5uxBqbDkg23NZvGlP/n",
      "include_colab_link": true
    },
    "kernelspec": {
      "name": "python3",
      "display_name": "Python 3"
    },
    "language_info": {
      "name": "python"
    }
  },
  "cells": [
    {
      "cell_type": "markdown",
      "metadata": {
        "id": "view-in-github",
        "colab_type": "text"
      },
      "source": [
        "<a href=\"https://colab.research.google.com/github/AlinaSabitova/Data_analytics_tools-/blob/main/%D0%94%D0%B71_Numpy.ipynb\" target=\"_parent\"><img src=\"https://colab.research.google.com/assets/colab-badge.svg\" alt=\"Open In Colab\"/></a>"
      ]
    },
    {
      "cell_type": "markdown",
      "source": [
        "#Worshop 2.1 Numpy\n",
        "Скачайте этот ноутбук к себе.\n",
        "Заполните пропущенные ячейки, отвечая на заданные вопросы. Там должен быть код! (если не сказано обратное)\n",
        "Сохраните результат в своём гитхаб репозитории."
      ],
      "metadata": {
        "id": "UhOcW2GUk89K"
      }
    },
    {
      "cell_type": "markdown",
      "source": [
        "# 1. Импортировать numpy и написать версию"
      ],
      "metadata": {
        "id": "9g89C218nNBU"
      }
    },
    {
      "cell_type": "code",
      "execution_count": 2,
      "metadata": {
        "id": "_fbqXsNMk1AY"
      },
      "outputs": [],
      "source": [
        "import numpy as np"
      ]
    },
    {
      "cell_type": "code",
      "source": [
        "np.__version__"
      ],
      "metadata": {
        "colab": {
          "base_uri": "https://localhost:8080/",
          "height": 36
        },
        "id": "OzLI1XEnoJC8",
        "outputId": "b42ab346-6120-4339-976c-2d513452dad1"
      },
      "execution_count": null,
      "outputs": [
        {
          "output_type": "execute_result",
          "data": {
            "text/plain": [
              "'1.23.5'"
            ],
            "application/vnd.google.colaboratory.intrinsic+json": {
              "type": "string"
            }
          },
          "metadata": {},
          "execution_count": 6
        }
      ]
    },
    {
      "cell_type": "markdown",
      "source": [
        "# 2.Создать нулевой вектор размера 10"
      ],
      "metadata": {
        "id": "6oi_uyTHoTGj"
      }
    },
    {
      "cell_type": "code",
      "source": [
        "np.zeros(10)"
      ],
      "metadata": {
        "colab": {
          "base_uri": "https://localhost:8080/"
        },
        "id": "CmwkL81XrMm_",
        "outputId": "f701c79a-0fa5-441f-f1a1-db3069475a51"
      },
      "execution_count": null,
      "outputs": [
        {
          "output_type": "execute_result",
          "data": {
            "text/plain": [
              "array([0., 0., 0., 0., 0., 0., 0., 0., 0., 0.])"
            ]
          },
          "metadata": {},
          "execution_count": 18
        }
      ]
    },
    {
      "cell_type": "markdown",
      "source": [
        "#3. Создать вектор заполненный 7-ами размера 7"
      ],
      "metadata": {
        "id": "QHVbv1Flv4PX"
      }
    },
    {
      "cell_type": "code",
      "source": [
        "np.full((1,7), 7)"
      ],
      "metadata": {
        "colab": {
          "base_uri": "https://localhost:8080/"
        },
        "id": "PJtgn1VhwADr",
        "outputId": "3b775741-bb89-416e-b94d-343e517cb9bb"
      },
      "execution_count": null,
      "outputs": [
        {
          "output_type": "execute_result",
          "data": {
            "text/plain": [
              "array([[7, 7, 7, 7, 7, 7, 7]])"
            ]
          },
          "metadata": {},
          "execution_count": 9
        }
      ]
    },
    {
      "cell_type": "markdown",
      "source": [
        "#4. Создать вектор заполненный четными числами от 10 до 100"
      ],
      "metadata": {
        "id": "2zY1fJOlxnj9"
      }
    },
    {
      "cell_type": "code",
      "source": [
        "arr = np.arange(10, 100)\n",
        "arr[::2]"
      ],
      "metadata": {
        "colab": {
          "base_uri": "https://localhost:8080/"
        },
        "id": "FYD1eTl_xtI7",
        "outputId": "608ce1ed-71f1-4e67-e9c1-9339fe911844"
      },
      "execution_count": null,
      "outputs": [
        {
          "output_type": "execute_result",
          "data": {
            "text/plain": [
              "array([10, 12, 14, 16, 18, 20, 22, 24, 26, 28, 30, 32, 34, 36, 38, 40, 42,\n",
              "       44, 46, 48, 50, 52, 54, 56, 58, 60, 62, 64, 66, 68, 70, 72, 74, 76,\n",
              "       78, 80, 82, 84, 86, 88, 90, 92, 94, 96, 98])"
            ]
          },
          "metadata": {},
          "execution_count": 20
        }
      ]
    },
    {
      "cell_type": "markdown",
      "source": [
        "#5. Создать массив случайных чисел и развернуть его задом наперёд"
      ],
      "metadata": {
        "id": "8NyOV4b9ygxr"
      }
    },
    {
      "cell_type": "code",
      "source": [
        "arr = np.random.random(10)\n",
        "print(arr)\n",
        "arr[::-1]"
      ],
      "metadata": {
        "colab": {
          "base_uri": "https://localhost:8080/"
        },
        "id": "jFl4FyYV1g1b",
        "outputId": "1bd93b0b-20d7-405e-c37d-aeda959bb76f"
      },
      "execution_count": null,
      "outputs": [
        {
          "output_type": "stream",
          "name": "stdout",
          "text": [
            "[0.70069841 0.34377005 0.43933573 0.5300514  0.27477653 0.73059425\n",
            " 0.65569905 0.75092853 0.0617207  0.39002615]\n"
          ]
        },
        {
          "output_type": "execute_result",
          "data": {
            "text/plain": [
              "array([0.39002615, 0.0617207 , 0.75092853, 0.65569905, 0.73059425,\n",
              "       0.27477653, 0.5300514 , 0.43933573, 0.34377005, 0.70069841])"
            ]
          },
          "metadata": {},
          "execution_count": 31
        }
      ]
    },
    {
      "cell_type": "code",
      "source": [
        "arr = np.random.random_sample(10)\n",
        "print(arr)\n",
        "arr[::-1]"
      ],
      "metadata": {
        "id": "IyU4SnwDPrbh",
        "outputId": "3259fb50-d4c4-41c7-99a2-054f410ce357",
        "colab": {
          "base_uri": "https://localhost:8080/"
        }
      },
      "execution_count": null,
      "outputs": [
        {
          "output_type": "stream",
          "name": "stdout",
          "text": [
            "[0.45244502 0.31658984 0.24948195 0.52465202 0.13349035 0.64620225\n",
            " 0.26957566 0.4480803  0.51638805 0.28109614]\n"
          ]
        },
        {
          "output_type": "execute_result",
          "data": {
            "text/plain": [
              "array([0.28109614, 0.51638805, 0.4480803 , 0.26957566, 0.64620225,\n",
              "       0.13349035, 0.52465202, 0.24948195, 0.31658984, 0.45244502])"
            ]
          },
          "metadata": {},
          "execution_count": 15
        }
      ]
    },
    {
      "cell_type": "markdown",
      "source": [
        "#6. Создать двумерную матрицу размера 3 на 3, заполненную числами от 0 до 9"
      ],
      "metadata": {
        "id": "5MtbqPY9ym_c"
      }
    },
    {
      "cell_type": "code",
      "source": [
        "arr = np.arange(9).reshape(3, 3)\n",
        "arr"
      ],
      "metadata": {
        "colab": {
          "base_uri": "https://localhost:8080/"
        },
        "id": "GyB2TucI83JV",
        "outputId": "17da638a-e21d-48c3-8761-16b2de5f3df1"
      },
      "execution_count": 8,
      "outputs": [
        {
          "output_type": "execute_result",
          "data": {
            "text/plain": [
              "array([[0, 1, 2],\n",
              "       [3, 4, 5],\n",
              "       [6, 7, 8]])"
            ]
          },
          "metadata": {},
          "execution_count": 8
        }
      ]
    },
    {
      "cell_type": "markdown",
      "source": [
        "#7. Создать матрицу размера 4 на 4 с единицами на диагонали смещеной на один наверх."
      ],
      "metadata": {
        "id": "vn3jLnHzyr0f"
      }
    },
    {
      "cell_type": "code",
      "source": [
        "arr = np.eye(4, k=1)\n",
        "arr"
      ],
      "metadata": {
        "colab": {
          "base_uri": "https://localhost:8080/"
        },
        "id": "7ubX1ftRATmI",
        "outputId": "6e7c463c-1384-45d5-a18c-0fceba6b053b"
      },
      "execution_count": 9,
      "outputs": [
        {
          "output_type": "execute_result",
          "data": {
            "text/plain": [
              "array([[0., 1., 0., 0.],\n",
              "       [0., 0., 1., 0.],\n",
              "       [0., 0., 0., 1.],\n",
              "       [0., 0., 0., 0.]])"
            ]
          },
          "metadata": {},
          "execution_count": 9
        }
      ]
    },
    {
      "cell_type": "markdown",
      "source": [
        "#8. Создать матрицу с числами в диапазоне от 1 до 4 по диагонали. В других ячейках матрицы должны быть семерки."
      ],
      "metadata": {
        "id": "q6sWO1LDywUQ"
      }
    },
    {
      "cell_type": "code",
      "source": [
        "arr = np.full((4,4), 7)\n",
        "np.fill_diagonal(arr, [1,2,3,4])\n",
        "arr"
      ],
      "metadata": {
        "colab": {
          "base_uri": "https://localhost:8080/"
        },
        "id": "NDJTSSKVHBDh",
        "outputId": "e11c58b4-6d81-42e4-a6e8-39d0c6fc48a0"
      },
      "execution_count": 10,
      "outputs": [
        {
          "output_type": "execute_result",
          "data": {
            "text/plain": [
              "array([[1, 7, 7, 7],\n",
              "       [7, 2, 7, 7],\n",
              "       [7, 7, 3, 7],\n",
              "       [7, 7, 7, 4]])"
            ]
          },
          "metadata": {},
          "execution_count": 10
        }
      ]
    },
    {
      "cell_type": "code",
      "source": [
        "arr = np.diag([1,2,3,4])\n",
        "arr[arr == 0] = 7\n",
        "arr"
      ],
      "metadata": {
        "colab": {
          "base_uri": "https://localhost:8080/"
        },
        "id": "npic1IfR0QWt",
        "outputId": "97edc6e6-f14e-437c-d32a-abf16ba922ea"
      },
      "execution_count": 11,
      "outputs": [
        {
          "output_type": "execute_result",
          "data": {
            "text/plain": [
              "array([[1, 7, 7, 7],\n",
              "       [7, 2, 7, 7],\n",
              "       [7, 7, 3, 7],\n",
              "       [7, 7, 7, 4]])"
            ]
          },
          "metadata": {},
          "execution_count": 11
        }
      ]
    },
    {
      "cell_type": "markdown",
      "source": [
        "#9. Создать матрицу размера 5 на 5 заполненную чиcлами от 0 до 4 в строках."
      ],
      "metadata": {
        "id": "boQ4wP6yy1GP"
      }
    },
    {
      "cell_type": "code",
      "source": [
        "arr = np.zeros((5, 5))\n",
        "arr += np.arange(5)\n",
        "arr"
      ],
      "metadata": {
        "id": "aukJDNThAe0g",
        "outputId": "138980b0-9e34-47fb-9fbe-ca472fb89161",
        "colab": {
          "base_uri": "https://localhost:8080/"
        }
      },
      "execution_count": 12,
      "outputs": [
        {
          "output_type": "execute_result",
          "data": {
            "text/plain": [
              "array([[0., 1., 2., 3., 4.],\n",
              "       [0., 1., 2., 3., 4.],\n",
              "       [0., 1., 2., 3., 4.],\n",
              "       [0., 1., 2., 3., 4.],\n",
              "       [0., 1., 2., 3., 4.]])"
            ]
          },
          "metadata": {},
          "execution_count": 12
        }
      ]
    },
    {
      "cell_type": "markdown",
      "source": [
        "#10. Создать матрицу случайных чисел размера 10 на 10 и отнять среднее по строкам из каждого элемента строки"
      ],
      "metadata": {
        "id": "xM2OQ7Q1y9s6"
      }
    },
    {
      "cell_type": "code",
      "source": [
        "arr = np.random.randint(0, 100, (10, 10))\n",
        "print(arr)\n",
        "arr - arr.mean(axis = 1, keepdims=True)"
      ],
      "metadata": {
        "id": "nyC6pxa9JBgq",
        "outputId": "cc8f4e38-c948-4093-f426-2585beba1bcd",
        "colab": {
          "base_uri": "https://localhost:8080/"
        }
      },
      "execution_count": 14,
      "outputs": [
        {
          "output_type": "stream",
          "name": "stdout",
          "text": [
            "[[24 14 84 40 76  1 97 39  5 40]\n",
            " [78 19 78 41 17 66 71 15  3 26]\n",
            " [12 76 88 72 52 57 55  5 36 79]\n",
            " [ 6 95 96 88 91 68 56 24 37 85]\n",
            " [58 40 42  1 18 34 88  0 63 85]\n",
            " [19 65 64  0 73 29 73 34 91 14]\n",
            " [19 32 24 22 42 57 21 24 76 91]\n",
            " [90 20  5 42 63 20 85 22 93 93]\n",
            " [38 58 68 74 84 71 61 56 15 57]\n",
            " [23 89 51 63 70  6  4 25 97 18]]\n"
          ]
        },
        {
          "output_type": "execute_result",
          "data": {
            "text/plain": [
              "array([[-18. , -28. ,  42. ,  -2. ,  34. , -41. ,  55. ,  -3. , -37. ,\n",
              "         -2. ],\n",
              "       [ 36.6, -22.4,  36.6,  -0.4, -24.4,  24.6,  29.6, -26.4, -38.4,\n",
              "        -15.4],\n",
              "       [-41.2,  22.8,  34.8,  18.8,  -1.2,   3.8,   1.8, -48.2, -17.2,\n",
              "         25.8],\n",
              "       [-58.6,  30.4,  31.4,  23.4,  26.4,   3.4,  -8.6, -40.6, -27.6,\n",
              "         20.4],\n",
              "       [ 15.1,  -2.9,  -0.9, -41.9, -24.9,  -8.9,  45.1, -42.9,  20.1,\n",
              "         42.1],\n",
              "       [-27.2,  18.8,  17.8, -46.2,  26.8, -17.2,  26.8, -12.2,  44.8,\n",
              "        -32.2],\n",
              "       [-21.8,  -8.8, -16.8, -18.8,   1.2,  16.2, -19.8, -16.8,  35.2,\n",
              "         50.2],\n",
              "       [ 36.7, -33.3, -48.3, -11.3,   9.7, -33.3,  31.7, -31.3,  39.7,\n",
              "         39.7],\n",
              "       [-20.2,  -0.2,   9.8,  15.8,  25.8,  12.8,   2.8,  -2.2, -43.2,\n",
              "         -1.2],\n",
              "       [-21.6,  44.4,   6.4,  18.4,  25.4, -38.6, -40.6, -19.6,  52.4,\n",
              "        -26.6]])"
            ]
          },
          "metadata": {},
          "execution_count": 14
        }
      ]
    },
    {
      "cell_type": "markdown",
      "source": [
        "#11. Создать матрицу случайных чисел размера 10 на 10 и отнять медиану по столбцам из каждого элемента столбца"
      ],
      "metadata": {
        "id": "-8ZVvfFUy_Bg"
      }
    },
    {
      "cell_type": "code",
      "source": [
        "arr = np.random.randint(0, 100, (10, 10))\n",
        "print(arr)\n",
        "print(\"Медиана:\", np.median(arr, axis=0, keepdims=True))\n",
        "arr - np.median(arr, axis=0, keepdims=True)"
      ],
      "metadata": {
        "colab": {
          "base_uri": "https://localhost:8080/"
        },
        "id": "FC3ybXMJIyVY",
        "outputId": "721b3c22-aceb-41a2-bc40-971cce03614a"
      },
      "execution_count": null,
      "outputs": [
        {
          "output_type": "stream",
          "name": "stdout",
          "text": [
            "[[18 27 64 48 71 42 17 12 21 99]\n",
            " [23 41 99  1 45 64 67 81 26 22]\n",
            " [96 29 34 18 22 28  6  8 19 89]\n",
            " [77 47 26 54 62 23 65 74 96 22]\n",
            " [87 51 89 81 37 91 27 30 13 60]\n",
            " [17 64 29 95 11 64 64 81 48 57]\n",
            " [62  5 70 22 29 10 60 94 77 92]\n",
            " [84 61 68 60 64 26 21 26 25 65]\n",
            " [73 57 63 45 61 92 77 87 58 85]\n",
            " [32 47 92 82 51 33 54 88  9 63]]\n",
            "Медиана: [[67.5 47.  66.  51.  48.  37.5 57.  77.5 25.5 64. ]]\n"
          ]
        },
        {
          "output_type": "execute_result",
          "data": {
            "text/plain": [
              "array([[-49.5, -20. ,  -2. ,  -3. ,  23. ,   4.5, -40. , -65.5,  -4.5,\n",
              "         35. ],\n",
              "       [-44.5,  -6. ,  33. , -50. ,  -3. ,  26.5,  10. ,   3.5,   0.5,\n",
              "        -42. ],\n",
              "       [ 28.5, -18. , -32. , -33. , -26. ,  -9.5, -51. , -69.5,  -6.5,\n",
              "         25. ],\n",
              "       [  9.5,   0. , -40. ,   3. ,  14. , -14.5,   8. ,  -3.5,  70.5,\n",
              "        -42. ],\n",
              "       [ 19.5,   4. ,  23. ,  30. , -11. ,  53.5, -30. , -47.5, -12.5,\n",
              "         -4. ],\n",
              "       [-50.5,  17. , -37. ,  44. , -37. ,  26.5,   7. ,   3.5,  22.5,\n",
              "         -7. ],\n",
              "       [ -5.5, -42. ,   4. , -29. , -19. , -27.5,   3. ,  16.5,  51.5,\n",
              "         28. ],\n",
              "       [ 16.5,  14. ,   2. ,   9. ,  16. , -11.5, -36. , -51.5,  -0.5,\n",
              "          1. ],\n",
              "       [  5.5,  10. ,  -3. ,  -6. ,  13. ,  54.5,  20. ,   9.5,  32.5,\n",
              "         21. ],\n",
              "       [-35.5,   0. ,  26. ,  31. ,   3. ,  -4.5,  -3. ,  10.5, -16.5,\n",
              "         -1. ]])"
            ]
          },
          "metadata": {},
          "execution_count": 55
        }
      ]
    },
    {
      "cell_type": "markdown",
      "source": [
        "#12. Создать матрицу случайных чисел 5x5. Добавить к ней столбцы максимумов и минимумов по строкам. Получится матрица 5x7."
      ],
      "metadata": {
        "id": "biFnvw9wzDoq"
      }
    },
    {
      "cell_type": "code",
      "source": [
        "arr = np.random.randint(0, 100, (5, 5))\n",
        "print(arr)\n",
        "a = arr.min(axis=1, keepdims=True)\n",
        "b = arr.max(axis=1, keepdims=True)\n",
        "np.concatenate((arr, a, b), axis=1)"
      ],
      "metadata": {
        "id": "-iIJ3oUhntj-",
        "outputId": "fd3c1570-bbbe-49de-d314-0cb4e4a319ff",
        "colab": {
          "base_uri": "https://localhost:8080/"
        }
      },
      "execution_count": null,
      "outputs": [
        {
          "output_type": "stream",
          "name": "stdout",
          "text": [
            "[[99 75 73  3 82]\n",
            " [91 73 27 79 72]\n",
            " [92  9 48 91 14]\n",
            " [14  3 51 51 63]\n",
            " [16 62 12  6 99]]\n"
          ]
        },
        {
          "output_type": "execute_result",
          "data": {
            "text/plain": [
              "array([[99, 75, 73,  3, 82,  3, 99],\n",
              "       [91, 73, 27, 79, 72, 27, 91],\n",
              "       [92,  9, 48, 91, 14,  9, 92],\n",
              "       [14,  3, 51, 51, 63,  3, 63],\n",
              "       [16, 62, 12,  6, 99,  6, 99]])"
            ]
          },
          "metadata": {},
          "execution_count": 62
        }
      ]
    },
    {
      "cell_type": "markdown",
      "source": [
        "#13. Вектор чисел от 1 до 51 преобразовать в вектор нечетных чисел и в вектор четных чисел, поменять их размерности, чтобы получились две матрицы. Найти произведение этих матриц. Найти обратную матрицу этого произведения."
      ],
      "metadata": {
        "id": "LfawSL4RzHPz"
      }
    },
    {
      "cell_type": "code",
      "source": [
        "arr = np.arange(1, 51)\n",
        "arr1 = arr[::2]\n",
        "arr2 = arr[1::2]\n",
        "print(\"Вектор нечетных чисел:\", arr1)\n",
        "print(\"Вектор четных чисел:\", arr2)\n",
        "new_arr1 = arr1.reshape(5, 5)\n",
        "new_arr2 = arr2.reshape(5, 5)\n",
        "a = np.dot(new_arr1, new_arr2)\n",
        "print(a)\n",
        "try:\n",
        "  print(np.linalg.inv(a)) # матрица невырожденная, следовательно у нее нет обратной матрицы\n",
        "except:\n",
        "  print(\"Матрица невырожденная, следовательно у нее нет обратной матрицы\")"
      ],
      "metadata": {
        "id": "SoZDy0-Wro89",
        "outputId": "1489ab01-7235-46f6-cfed-0bf87a2842dd",
        "colab": {
          "base_uri": "https://localhost:8080/"
        }
      },
      "execution_count": 15,
      "outputs": [
        {
          "output_type": "stream",
          "name": "stdout",
          "text": [
            "Вектор нечетных чисел: [ 1  3  5  7  9 11 13 15 17 19 21 23 25 27 29 31 33 35 37 39 41 43 45 47\n",
            " 49]\n",
            "Вектор четных чисел: [ 2  4  6  8 10 12 14 16 18 20 22 24 26 28 30 32 34 36 38 40 42 44 46 48\n",
            " 50]\n",
            "[[ 750  800  850  900  950]\n",
            " [1850 2000 2150 2300 2450]\n",
            " [2950 3200 3450 3700 3950]\n",
            " [4050 4400 4750 5100 5450]\n",
            " [5150 5600 6050 6500 6950]]\n",
            "Матрица невырожденная, следовательно у нее нет обратной матрицы\n"
          ]
        }
      ]
    },
    {
      "cell_type": "markdown",
      "source": [
        "#14. Создать 8x8 матрицу и заполнить её в шахматном порядке нулями и единицами."
      ],
      "metadata": {
        "id": "E8_KPJTtzMDJ"
      }
    },
    {
      "cell_type": "code",
      "source": [
        "arr = np.zeros((8,8), dtype=int)\n",
        "arr[1::2,::2] = 1\n",
        "arr[::2,1::2] = 1\n",
        "print(arr)"
      ],
      "metadata": {
        "id": "OsawFnIrrpwL",
        "outputId": "23ff705b-8dfd-469b-cd36-f3eba1da54bd",
        "colab": {
          "base_uri": "https://localhost:8080/"
        }
      },
      "execution_count": null,
      "outputs": [
        {
          "output_type": "stream",
          "name": "stdout",
          "text": [
            "[[0 1 0 1 0 1 0 1]\n",
            " [1 0 1 0 1 0 1 0]\n",
            " [0 1 0 1 0 1 0 1]\n",
            " [1 0 1 0 1 0 1 0]\n",
            " [0 1 0 1 0 1 0 1]\n",
            " [1 0 1 0 1 0 1 0]\n",
            " [0 1 0 1 0 1 0 1]\n",
            " [1 0 1 0 1 0 1 0]]\n"
          ]
        }
      ]
    }
  ]
}