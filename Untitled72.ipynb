{
  "nbformat": 4,
  "nbformat_minor": 0,
  "metadata": {
    "colab": {
      "provenance": [],
      "authorship_tag": "ABX9TyMpY+ZolZmqf8UMGCyzADqD",
      "include_colab_link": true
    },
    "kernelspec": {
      "name": "python3",
      "display_name": "Python 3"
    },
    "language_info": {
      "name": "python"
    }
  },
  "cells": [
    {
      "cell_type": "markdown",
      "metadata": {
        "id": "view-in-github",
        "colab_type": "text"
      },
      "source": [
        "<a href=\"https://colab.research.google.com/github/AlinaSabitova/Data_analytics_tools-/blob/main/Untitled72.ipynb\" target=\"_parent\"><img src=\"https://colab.research.google.com/assets/colab-badge.svg\" alt=\"Open In Colab\"/></a>"
      ]
    },
    {
      "cell_type": "code",
      "source": [
        "!pip install pandas"
      ],
      "metadata": {
        "colab": {
          "base_uri": "https://localhost:8080/"
        },
        "id": "stQ68i4-KzGb",
        "outputId": "2ef0c9c4-2d12-416f-b5f0-cf7f94f1a02e"
      },
      "execution_count": 1,
      "outputs": [
        {
          "output_type": "stream",
          "name": "stdout",
          "text": [
            "Requirement already satisfied: pandas in /usr/local/lib/python3.10/dist-packages (2.0.3)\n",
            "Requirement already satisfied: python-dateutil>=2.8.2 in /usr/local/lib/python3.10/dist-packages (from pandas) (2.8.2)\n",
            "Requirement already satisfied: pytz>=2020.1 in /usr/local/lib/python3.10/dist-packages (from pandas) (2023.4)\n",
            "Requirement already satisfied: tzdata>=2022.1 in /usr/local/lib/python3.10/dist-packages (from pandas) (2024.1)\n",
            "Requirement already satisfied: numpy>=1.21.0 in /usr/local/lib/python3.10/dist-packages (from pandas) (1.25.2)\n",
            "Requirement already satisfied: six>=1.5 in /usr/local/lib/python3.10/dist-packages (from python-dateutil>=2.8.2->pandas) (1.16.0)\n"
          ]
        }
      ]
    },
    {
      "cell_type": "code",
      "execution_count": 4,
      "metadata": {
        "colab": {
          "base_uri": "https://localhost:8080/"
        },
        "id": "tP_-3YadKmPE",
        "outputId": "dfef6f1b-4687-4513-de3a-738840ec57a8"
      },
      "outputs": [
        {
          "output_type": "stream",
          "name": "stdout",
          "text": [
            "   A  B  C\n",
            "0  1  a  d\n",
            "1  3  c  e\n"
          ]
        }
      ],
      "source": [
        "import pandas as pd\n",
        "\n",
        "df1 = pd.DataFrame({'A': [1, 2, 3], 'B': ['a', 'b', 'c']})\n",
        "df2 = pd.DataFrame({'A': [1, 3, 4], 'C': ['d', 'e', 'f']})\n",
        "inner_join = pd.merge(df1, df2, on='A', how='inner')\n",
        "print(inner_join)"
      ]
    },
    {
      "cell_type": "code",
      "source": [
        "import pandas as pd\n",
        "\n",
        "df1 = pd.DataFrame({'A': [1, 2, 3], 'B': ['a', 'b', 'c']})\n",
        "df2 = pd.DataFrame({'A': [1, 3, 4], 'C': ['d', 'e', 'f']})\n",
        "inner_join = pd.merge(df1, df2, on='A', how='outer')\n",
        "print(inner_join)"
      ],
      "metadata": {
        "colab": {
          "base_uri": "https://localhost:8080/"
        },
        "id": "jQs-WnCiMtGm",
        "outputId": "0a879b69-a536-49c2-e3ed-e5c4c8a3ef6b"
      },
      "execution_count": 5,
      "outputs": [
        {
          "output_type": "stream",
          "name": "stdout",
          "text": [
            "   A    B    C\n",
            "0  1    a    d\n",
            "1  2    b  NaN\n",
            "2  3    c    e\n",
            "3  4  NaN    f\n"
          ]
        }
      ]
    },
    {
      "cell_type": "code",
      "source": [
        "import pandas as pd\n",
        "\n",
        "df1 = pd.DataFrame({'A': [1, 2, 3], 'B': ['a', 'b', 'c']})\n",
        "df2 = pd.DataFrame({'A': [1, 3, 4], 'C': ['d', 'e', 'f']})\n",
        "inner_join = pd.merge(df1, df2, on='A', how='left')\n",
        "print(inner_join)"
      ],
      "metadata": {
        "colab": {
          "base_uri": "https://localhost:8080/"
        },
        "id": "NJKkLmdjNNbP",
        "outputId": "b1fb1897-0be4-4797-91a1-50d4c59b5823"
      },
      "execution_count": 6,
      "outputs": [
        {
          "output_type": "stream",
          "name": "stdout",
          "text": [
            "   A  B    C\n",
            "0  1  a    d\n",
            "1  2  b  NaN\n",
            "2  3  c    e\n"
          ]
        }
      ]
    },
    {
      "cell_type": "code",
      "source": [
        "import pandas as pd\n",
        "\n",
        "df1 = pd.DataFrame({'A': [1, 2, 3], 'B': ['a', 'b', 'c']})\n",
        "df2 = pd.DataFrame({'A': [1, 3, 4], 'C': ['d', 'e', 'f']})\n",
        "inner_join = pd.merge(df1, df2, on='A', how='right')\n",
        "print(inner_join)"
      ],
      "metadata": {
        "colab": {
          "base_uri": "https://localhost:8080/"
        },
        "id": "w9UN-Ts-N0eF",
        "outputId": "31a556e8-3ac9-4e2f-f2a6-dfdcb329635b"
      },
      "execution_count": 7,
      "outputs": [
        {
          "output_type": "stream",
          "name": "stdout",
          "text": [
            "   A    B  C\n",
            "0  1    a  d\n",
            "1  3    c  e\n",
            "2  4  NaN  f\n"
          ]
        }
      ]
    },
    {
      "cell_type": "code",
      "source": [
        "from sklearn.preprocessing import MinMaxScaler\n",
        "import pandas as pd\n",
        "data = pd.DataFrame({'A': [10, 20, 30, 40, 50]})\n",
        "scaler = MinMaxScaler()\n",
        "normalized_data = scaler.fit_transform(data)\n",
        "print(normalized_data)"
      ],
      "metadata": {
        "colab": {
          "base_uri": "https://localhost:8080/"
        },
        "id": "aUEYM72pR1HE",
        "outputId": "4c457c21-3efb-4c5e-cbcd-edce2458d6e2"
      },
      "execution_count": 10,
      "outputs": [
        {
          "output_type": "stream",
          "name": "stdout",
          "text": [
            "[[0.  ]\n",
            " [0.25]\n",
            " [0.5 ]\n",
            " [0.75]\n",
            " [1.  ]]\n"
          ]
        }
      ]
    },
    {
      "cell_type": "code",
      "source": [
        "import pandas as pd\n",
        "df = pd.DataFrame({'A': [10, 20, 30, 40, 50]})\n",
        "normalized_data = (df-df.min())/(df.max()-df.min())\n",
        "print(normalized_data)"
      ],
      "metadata": {
        "colab": {
          "base_uri": "https://localhost:8080/"
        },
        "id": "_X4AY7-_SdpT",
        "outputId": "a116b30c-c21e-4efc-d007-e77a8d8ccb3f"
      },
      "execution_count": 11,
      "outputs": [
        {
          "output_type": "stream",
          "name": "stdout",
          "text": [
            "      A\n",
            "0  0.00\n",
            "1  0.25\n",
            "2  0.50\n",
            "3  0.75\n",
            "4  1.00\n"
          ]
        }
      ]
    },
    {
      "cell_type": "code",
      "source": [
        "from sklearn.preprocessing import StandardScaler\n",
        "import pandas as pd\n",
        "data = pd.DataFrame({'A': [10, 20, 30, 40, 50]})\n",
        "scaler = StandardScaler()\n",
        "standardized_data = scaler.fit_transform(data)\n",
        "print(standardized_data)"
      ],
      "metadata": {
        "colab": {
          "base_uri": "https://localhost:8080/"
        },
        "id": "Hr3pLnDLTWDD",
        "outputId": "3a2ce619-9931-47dd-fce1-5212aea9c716"
      },
      "execution_count": 12,
      "outputs": [
        {
          "output_type": "stream",
          "name": "stdout",
          "text": [
            "[[-1.41421356]\n",
            " [-0.70710678]\n",
            " [ 0.        ]\n",
            " [ 0.70710678]\n",
            " [ 1.41421356]]\n"
          ]
        }
      ]
    },
    {
      "cell_type": "code",
      "source": [
        "import pandas as pd\n",
        "df = pd.DataFrame({'A': [10, 20, 30, 40, 50]})\n",
        "standardized_data = (df-df.mean())/df.std()\n",
        "print(standardized_data)"
      ],
      "metadata": {
        "colab": {
          "base_uri": "https://localhost:8080/"
        },
        "id": "LhS8b_GzTdAP",
        "outputId": "3357a490-946d-4a17-a887-bf9e623a5d37"
      },
      "execution_count": 13,
      "outputs": [
        {
          "output_type": "stream",
          "name": "stdout",
          "text": [
            "          A\n",
            "0 -1.264911\n",
            "1 -0.632456\n",
            "2  0.000000\n",
            "3  0.632456\n",
            "4  1.264911\n"
          ]
        }
      ]
    }
  ]
}